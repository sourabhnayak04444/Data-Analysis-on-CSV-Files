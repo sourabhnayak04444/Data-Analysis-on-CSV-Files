{
  "nbformat": 4,
  "nbformat_minor": 0,
  "metadata": {
    "colab": {
      "private_outputs": true,
      "provenance": [],
      "gpuType": "T4",
      "authorship_tag": "ABX9TyNIKXKCJrUOaWfht0IGuKt7",
      "include_colab_link": true
    },
    "kernelspec": {
      "name": "python3",
      "display_name": "Python 3"
    },
    "language_info": {
      "name": "python"
    },
    "accelerator": "GPU"
  },
  "cells": [
    {
      "cell_type": "markdown",
      "metadata": {
        "id": "view-in-github",
        "colab_type": "text"
      },
      "source": [
        "<a href=\"https://colab.research.google.com/github/sourabhnayak04444/Data-Analysis-on-CSV-Files/blob/main/Task_5.ipynb\" target=\"_parent\"><img src=\"https://colab.research.google.com/assets/colab-badge.svg\" alt=\"Open In Colab\"/></a>"
      ]
    },
    {
      "cell_type": "code",
      "source": [
        "import pandas as pd\n",
        "import matplotlib.pyplot as plt"
      ],
      "metadata": {
        "id": "4AseaOCF1kBP"
      },
      "execution_count": null,
      "outputs": []
    },
    {
      "cell_type": "code",
      "source": [
        "# Load the CSV file into a pandas DataFrame\n",
        "df = pd.read_csv('sales_data.csv')"
      ],
      "metadata": {
        "id": "jB81n7BH9P1v"
      },
      "execution_count": null,
      "outputs": []
    },
    {
      "cell_type": "code",
      "source": [
        "# Display the first 5 rows\n",
        "print(\"--- First 5 Rows ---\")\n",
        "print(df.head())\n",
        "print(\"\\n--- Data Info ---\")\n",
        "df.info()"
      ],
      "metadata": {
        "id": "OjOagjDS9S5m"
      },
      "execution_count": null,
      "outputs": []
    },
    {
      "cell_type": "code",
      "source": [
        "# Calculate total sales per product\n",
        "sales_by_product = df.groupby('Product')['Sales'].sum()\n",
        "print(\"--- Total Sales by Product ---\")\n",
        "print(sales_by_product)"
      ],
      "metadata": {
        "id": "qEt64rS49VRB"
      },
      "execution_count": null,
      "outputs": []
    },
    {
      "cell_type": "code",
      "source": [
        "# Calculate total sales per region\n",
        "sales_by_region = df.groupby('Region')['Sales'].sum()\n",
        "print(\"\\n--- Total Sales by Region ---\")\n",
        "print(sales_by_region)"
      ],
      "metadata": {
        "id": "YMuAYkIS9ZIv"
      },
      "execution_count": null,
      "outputs": []
    },
    {
      "cell_type": "code",
      "source": [
        "# Calculate total sales per category\n",
        "sales_by_category = df.groupby('Category')['Sales'].sum()\n",
        "\n",
        "print(\"\\n--- Total Sales by Category ---\")\n",
        "print(sales_by_category)"
      ],
      "metadata": {
        "id": "PUsBIbFD9b4A"
      },
      "execution_count": null,
      "outputs": []
    },
    {
      "cell_type": "code",
      "source": [
        "# Use the .plot() function on our grouped data\n",
        "sales_by_product.plot(kind='bar', title='Total Sales by Product')\n",
        "plt.xlabel('Product')\n",
        "plt.ylabel('Total Sales ($)')\n",
        "plt.xticks(rotation=45)\n",
        "plt.show()"
      ],
      "metadata": {
        "id": "l-hRbt4d9doE"
      },
      "execution_count": null,
      "outputs": []
    },
    {
      "cell_type": "code",
      "source": [
        "sales_by_region.plot(kind='pie',autopct='%1.1f%%',title='Sales Distribution by Region')\n",
        "\n",
        "plt.ylabel('')\n",
        "plt.show()"
      ],
      "metadata": {
        "id": "djQrR-Dd9g6Z"
      },
      "execution_count": null,
      "outputs": []
    },
    {
      "cell_type": "code",
      "source": [],
      "metadata": {
        "id": "5RCSOmeB9j2-"
      },
      "execution_count": null,
      "outputs": []
    }
  ]
}